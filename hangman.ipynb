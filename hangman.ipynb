{
 "cells": [
  {
   "cell_type": "code",
   "execution_count": null,
   "id": "ac7ae6ea",
   "metadata": {},
   "outputs": [],
   "source": []
  },
  {
   "cell_type": "code",
   "execution_count": null,
   "id": "ec86ec87",
   "metadata": {},
   "outputs": [],
   "source": []
  },
  {
   "cell_type": "code",
   "execution_count": 28,
   "id": "0307373e",
   "metadata": {},
   "outputs": [
    {
     "name": "stdout",
     "output_type": "stream",
     "text": [
      "Enter Secret Word: okay\n",
      "----\n",
      "Enter letter: o\n",
      "Letter o FOUND!!!!\n",
      "o---\n",
      "Enter letter: k\n",
      "Letter k FOUND!!!!\n",
      "ok--\n",
      "Enter letter: a\n",
      "Letter a FOUND!!!!\n",
      "oka-\n",
      "Enter letter: y\n",
      "Letter y FOUND!!!!\n",
      "okay\n",
      "YOU WINNNN, THE WORLD IS: okay\n"
     ]
    }
   ],
   "source": [
    "hanged = input(\"Enter Secret Word: \")\n",
    "listed_hanged = list(hanged)\n",
    "\n",
    "dash = \"-\" * len(hanged)\n",
    "listed_dash = list(dash)\n",
    "\n",
    "print(dash)\n",
    "\n",
    "#the times of loses, to calculate if the player has lost yet or not \n",
    "loses = 0\n",
    "\n",
    "for i in range(100):\n",
    "    letterInputed = input(\"Enter letter: \")\n",
    "    if letterInputed in listed_hanged:\n",
    "        print(f\"Letter {letterInputed} FOUND!!!!\")\n",
    "        #get indexes of letter inputed\n",
    "        letter_index = []\n",
    "        for j in range(len(listed_hanged)):\n",
    "            if listed_hanged[j] == letterInputed:\n",
    "                letter_index.append(j)\n",
    "#         print(letter_index)\n",
    "        for k in range(len(letter_index)):\n",
    "            dash = dash[:letter_index[k]] + letterInputed + dash[letter_index[k] + 1:]\n",
    "        \n",
    "        print(dash)\n",
    "        if dash == hanged:\n",
    "            print(f\"YOU WINNNN, THE WORLD IS: {hanged}\")\n",
    "            break\n",
    "    else:\n",
    "        print(f\"WRONNNG LETEER\")\n",
    "        loses = loses +1\n",
    "        lives_left = 7 - loses\n",
    "        print(f\"{lives_left} lives left\")\n",
    "        \n",
    "        if loses == 6:\n",
    "            print(\"\\n YOU LOST YOU LOSERR\")\n",
    "            break"
   ]
  },
  {
   "cell_type": "code",
   "execution_count": null,
   "id": "8c64e4a0",
   "metadata": {},
   "outputs": [],
   "source": []
  },
  {
   "cell_type": "code",
   "execution_count": null,
   "id": "6e63b41c",
   "metadata": {},
   "outputs": [],
   "source": []
  },
  {
   "cell_type": "code",
   "execution_count": null,
   "id": "7e4aa240",
   "metadata": {},
   "outputs": [],
   "source": []
  },
  {
   "cell_type": "code",
   "execution_count": null,
   "id": "bc305fdb",
   "metadata": {},
   "outputs": [],
   "source": []
  },
  {
   "cell_type": "code",
   "execution_count": null,
   "id": "f2ea7bee",
   "metadata": {},
   "outputs": [],
   "source": []
  },
  {
   "cell_type": "code",
   "execution_count": 24,
   "id": "28e3b0d8",
   "metadata": {},
   "outputs": [
    {
     "name": "stdout",
     "output_type": "stream",
     "text": [
      "Enter Secret Word: ano\n",
      "---\n",
      "Enter letter: a\n",
      "Letter a FOUND!!!!\n",
      "a--\n",
      "Enter letter: o\n",
      "Letter o FOUND!!!!\n",
      "a-o\n",
      "Enter letter: n\n",
      "Letter n FOUND!!!!\n",
      "ano\n",
      "YOU WINNNN, THE WORLD IS: ano\n"
     ]
    }
   ],
   "source": []
  },
  {
   "cell_type": "code",
   "execution_count": 19,
   "id": "a1b2c59a",
   "metadata": {},
   "outputs": [
    {
     "name": "stdout",
     "output_type": "stream",
     "text": [
      "O\n"
     ]
    }
   ],
   "source": [
    "hangman = \" O\\n/|\\\\\\n/ \\\\\"\n",
    "for i in hangman:\n",
    "    print(i, end=\"\")"
   ]
  },
  {
   "cell_type": "code",
   "execution_count": 30,
   "id": "ef54a7e6",
   "metadata": {},
   "outputs": [
    {
     "name": "stdout",
     "output_type": "stream",
     "text": [
      "-\n"
     ]
    }
   ],
   "source": []
  },
  {
   "cell_type": "code",
   "execution_count": null,
   "id": "b991da66",
   "metadata": {},
   "outputs": [],
   "source": []
  },
  {
   "cell_type": "code",
   "execution_count": null,
   "id": "bb2ad38f",
   "metadata": {},
   "outputs": [],
   "source": []
  }
 ],
 "metadata": {
  "kernelspec": {
   "display_name": "Python 3 (ipykernel)",
   "language": "python",
   "name": "python3"
  },
  "language_info": {
   "codemirror_mode": {
    "name": "ipython",
    "version": 3
   },
   "file_extension": ".py",
   "mimetype": "text/x-python",
   "name": "python",
   "nbconvert_exporter": "python",
   "pygments_lexer": "ipython3",
   "version": "3.9.7"
  }
 },
 "nbformat": 4,
 "nbformat_minor": 5
}
